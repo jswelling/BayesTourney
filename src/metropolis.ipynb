{
 "cells": [
  {
   "cell_type": "code",
   "execution_count": 120,
   "id": "70ccdfb8-4991-437a-94e5-e008ccb1349d",
   "metadata": {},
   "outputs": [],
   "source": [
    "import numpy as np\n",
    "import scipy as sp\n",
    "import pandas as pd\n",
    "import matplotlib.pyplot as plt"
   ]
  },
  {
   "cell_type": "code",
   "execution_count": 3,
   "id": "ecefb8f5-2ec4-4ab9-9a9a-2e062d6a4d84",
   "metadata": {},
   "outputs": [],
   "source": [
    "small_bouts_df = pd.read_csv('/home/welling/Downloads/bouts (8).tsv', sep='\\t')"
   ]
  },
  {
   "cell_type": "code",
   "execution_count": 4,
   "id": "c868ed67-2921-4f39-b4c1-cfdb94e359d9",
   "metadata": {},
   "outputs": [
    {
     "data": {
      "text/html": [
       "<div>\n",
       "<style scoped>\n",
       "    .dataframe tbody tr th:only-of-type {\n",
       "        vertical-align: middle;\n",
       "    }\n",
       "\n",
       "    .dataframe tbody tr th {\n",
       "        vertical-align: top;\n",
       "    }\n",
       "\n",
       "    .dataframe thead th {\n",
       "        text-align: right;\n",
       "    }\n",
       "</style>\n",
       "<table border=\"1\" class=\"dataframe\">\n",
       "  <thead>\n",
       "    <tr style=\"text-align: right;\">\n",
       "      <th></th>\n",
       "      <th>boutId</th>\n",
       "      <th>tourneyId</th>\n",
       "      <th>leftWins</th>\n",
       "      <th>leftPlayerId</th>\n",
       "      <th>rightPlayerId</th>\n",
       "      <th>rightWins</th>\n",
       "      <th>draws</th>\n",
       "      <th>note</th>\n",
       "    </tr>\n",
       "  </thead>\n",
       "  <tbody>\n",
       "    <tr>\n",
       "      <th>0</th>\n",
       "      <td>5</td>\n",
       "      <td>3</td>\n",
       "      <td>2</td>\n",
       "      <td>7</td>\n",
       "      <td>6</td>\n",
       "      <td>1</td>\n",
       "      <td>0</td>\n",
       "      <td>NaN</td>\n",
       "    </tr>\n",
       "    <tr>\n",
       "      <th>1</th>\n",
       "      <td>6</td>\n",
       "      <td>3</td>\n",
       "      <td>1</td>\n",
       "      <td>6</td>\n",
       "      <td>8</td>\n",
       "      <td>1</td>\n",
       "      <td>0</td>\n",
       "      <td>NaN</td>\n",
       "    </tr>\n",
       "    <tr>\n",
       "      <th>2</th>\n",
       "      <td>7</td>\n",
       "      <td>3</td>\n",
       "      <td>1</td>\n",
       "      <td>6</td>\n",
       "      <td>12</td>\n",
       "      <td>1</td>\n",
       "      <td>0</td>\n",
       "      <td>NaN</td>\n",
       "    </tr>\n",
       "    <tr>\n",
       "      <th>3</th>\n",
       "      <td>8</td>\n",
       "      <td>3</td>\n",
       "      <td>0</td>\n",
       "      <td>6</td>\n",
       "      <td>9</td>\n",
       "      <td>1</td>\n",
       "      <td>0</td>\n",
       "      <td>NaN</td>\n",
       "    </tr>\n",
       "    <tr>\n",
       "      <th>4</th>\n",
       "      <td>9</td>\n",
       "      <td>3</td>\n",
       "      <td>2</td>\n",
       "      <td>6</td>\n",
       "      <td>10</td>\n",
       "      <td>3</td>\n",
       "      <td>1</td>\n",
       "      <td>NaN</td>\n",
       "    </tr>\n",
       "    <tr>\n",
       "      <th>5</th>\n",
       "      <td>10</td>\n",
       "      <td>3</td>\n",
       "      <td>2</td>\n",
       "      <td>6</td>\n",
       "      <td>11</td>\n",
       "      <td>0</td>\n",
       "      <td>0</td>\n",
       "      <td>NaN</td>\n",
       "    </tr>\n",
       "    <tr>\n",
       "      <th>6</th>\n",
       "      <td>11</td>\n",
       "      <td>3</td>\n",
       "      <td>2</td>\n",
       "      <td>7</td>\n",
       "      <td>8</td>\n",
       "      <td>2</td>\n",
       "      <td>0</td>\n",
       "      <td>NaN</td>\n",
       "    </tr>\n",
       "    <tr>\n",
       "      <th>7</th>\n",
       "      <td>12</td>\n",
       "      <td>3</td>\n",
       "      <td>2</td>\n",
       "      <td>7</td>\n",
       "      <td>12</td>\n",
       "      <td>0</td>\n",
       "      <td>0</td>\n",
       "      <td>NaN</td>\n",
       "    </tr>\n",
       "    <tr>\n",
       "      <th>8</th>\n",
       "      <td>13</td>\n",
       "      <td>3</td>\n",
       "      <td>1</td>\n",
       "      <td>7</td>\n",
       "      <td>10</td>\n",
       "      <td>1</td>\n",
       "      <td>0</td>\n",
       "      <td>NaN</td>\n",
       "    </tr>\n",
       "    <tr>\n",
       "      <th>9</th>\n",
       "      <td>14</td>\n",
       "      <td>3</td>\n",
       "      <td>2</td>\n",
       "      <td>7</td>\n",
       "      <td>11</td>\n",
       "      <td>1</td>\n",
       "      <td>0</td>\n",
       "      <td>NaN</td>\n",
       "    </tr>\n",
       "  </tbody>\n",
       "</table>\n",
       "</div>"
      ],
      "text/plain": [
       "   boutId  tourneyId  leftWins  leftPlayerId  rightPlayerId  rightWins  draws  \\\n",
       "0       5          3         2             7              6          1      0   \n",
       "1       6          3         1             6              8          1      0   \n",
       "2       7          3         1             6             12          1      0   \n",
       "3       8          3         0             6              9          1      0   \n",
       "4       9          3         2             6             10          3      1   \n",
       "5      10          3         2             6             11          0      0   \n",
       "6      11          3         2             7              8          2      0   \n",
       "7      12          3         2             7             12          0      0   \n",
       "8      13          3         1             7             10          1      0   \n",
       "9      14          3         2             7             11          1      0   \n",
       "\n",
       "   note  \n",
       "0   NaN  \n",
       "1   NaN  \n",
       "2   NaN  \n",
       "3   NaN  \n",
       "4   NaN  \n",
       "5   NaN  \n",
       "6   NaN  \n",
       "7   NaN  \n",
       "8   NaN  \n",
       "9   NaN  "
      ]
     },
     "execution_count": 4,
     "metadata": {},
     "output_type": "execute_result"
    }
   ],
   "source": [
    "small_bouts_df"
   ]
  },
  {
   "cell_type": "code",
   "execution_count": 159,
   "id": "aa23744f-a5f8-47c6-bdb7-08eb6311a8b4",
   "metadata": {},
   "outputs": [],
   "source": [
    "n_players = 10\n",
    "player_wts = np.zeros(n_players, dtype=float)"
   ]
  },
  {
   "cell_type": "code",
   "execution_count": 160,
   "id": "1afa2295-3071-4c90-8be6-f1e7e7a06b83",
   "metadata": {},
   "outputs": [],
   "source": [
    "for i in range(n_players):\n",
    "    player_wts[i] = i+1"
   ]
  },
  {
   "cell_type": "code",
   "execution_count": 179,
   "id": "e2ca4747-4008-4bf9-8697-9361f480d211",
   "metadata": {},
   "outputs": [],
   "source": [
    "npairs = 4000\n",
    "outcomes = []\n",
    "for pair in range(npairs):\n",
    "    l_player = np.random.choice(range(n_players))\n",
    "    r_player = np.random.choice(range(n_players-1))\n",
    "    if r_player >= l_player:\n",
    "        r_player += 1\n",
    "    l_prob = player_wts[l_player] / (player_wts[l_player] + player_wts[r_player])\n",
    "    if np.random.random() <= l_prob:\n",
    "        outcomes.append({'l_player':l_player, 'r_player':r_player, 'l_wins':1, 'r_wins':0})\n",
    "    else:\n",
    "        outcomes.append({'l_player':l_player, 'r_player':r_player, 'l_wins':0, 'r_wins':1})\n",
    "outcomes_df = pd.DataFrame(outcomes)"
   ]
  },
  {
   "cell_type": "code",
   "execution_count": 180,
   "id": "06b468c3-8b86-48c1-8965-194b4d6c03b6",
   "metadata": {},
   "outputs": [
    {
     "data": {
      "text/html": [
       "<div>\n",
       "<style scoped>\n",
       "    .dataframe tbody tr th:only-of-type {\n",
       "        vertical-align: middle;\n",
       "    }\n",
       "\n",
       "    .dataframe tbody tr th {\n",
       "        vertical-align: top;\n",
       "    }\n",
       "\n",
       "    .dataframe thead th {\n",
       "        text-align: right;\n",
       "    }\n",
       "</style>\n",
       "<table border=\"1\" class=\"dataframe\">\n",
       "  <thead>\n",
       "    <tr style=\"text-align: right;\">\n",
       "      <th></th>\n",
       "      <th>l_player</th>\n",
       "      <th>r_player</th>\n",
       "      <th>l_wins</th>\n",
       "      <th>r_wins</th>\n",
       "    </tr>\n",
       "  </thead>\n",
       "  <tbody>\n",
       "    <tr>\n",
       "      <th>0</th>\n",
       "      <td>6</td>\n",
       "      <td>4</td>\n",
       "      <td>0</td>\n",
       "      <td>1</td>\n",
       "    </tr>\n",
       "    <tr>\n",
       "      <th>1</th>\n",
       "      <td>7</td>\n",
       "      <td>2</td>\n",
       "      <td>1</td>\n",
       "      <td>0</td>\n",
       "    </tr>\n",
       "    <tr>\n",
       "      <th>2</th>\n",
       "      <td>9</td>\n",
       "      <td>8</td>\n",
       "      <td>0</td>\n",
       "      <td>1</td>\n",
       "    </tr>\n",
       "    <tr>\n",
       "      <th>3</th>\n",
       "      <td>7</td>\n",
       "      <td>4</td>\n",
       "      <td>1</td>\n",
       "      <td>0</td>\n",
       "    </tr>\n",
       "    <tr>\n",
       "      <th>4</th>\n",
       "      <td>5</td>\n",
       "      <td>7</td>\n",
       "      <td>0</td>\n",
       "      <td>1</td>\n",
       "    </tr>\n",
       "  </tbody>\n",
       "</table>\n",
       "</div>"
      ],
      "text/plain": [
       "   l_player  r_player  l_wins  r_wins\n",
       "0         6         4       0       1\n",
       "1         7         2       1       0\n",
       "2         9         8       0       1\n",
       "3         7         4       1       0\n",
       "4         5         7       0       1"
      ]
     },
     "execution_count": 180,
     "metadata": {},
     "output_type": "execute_result"
    }
   ],
   "source": [
    "outcomes_df.head()"
   ]
  },
  {
   "cell_type": "code",
   "execution_count": 181,
   "id": "293afe75-171c-481b-b43f-409782a13aa7",
   "metadata": {},
   "outputs": [],
   "source": [
    "totals_df = outcomes_df.groupby(['l_player','r_player']).sum()"
   ]
  },
  {
   "cell_type": "code",
   "execution_count": 182,
   "id": "2b7034bf-df08-4bc1-aa25-8c644e2fd3e1",
   "metadata": {},
   "outputs": [],
   "source": [
    "totals_df = totals_df.reset_index()"
   ]
  },
  {
   "cell_type": "code",
   "execution_count": 183,
   "id": "54a239e2-2428-44cf-bcd7-ef93fa00c643",
   "metadata": {},
   "outputs": [
    {
     "data": {
      "text/html": [
       "<div>\n",
       "<style scoped>\n",
       "    .dataframe tbody tr th:only-of-type {\n",
       "        vertical-align: middle;\n",
       "    }\n",
       "\n",
       "    .dataframe tbody tr th {\n",
       "        vertical-align: top;\n",
       "    }\n",
       "\n",
       "    .dataframe thead th {\n",
       "        text-align: right;\n",
       "    }\n",
       "</style>\n",
       "<table border=\"1\" class=\"dataframe\">\n",
       "  <thead>\n",
       "    <tr style=\"text-align: right;\">\n",
       "      <th></th>\n",
       "      <th>l_player</th>\n",
       "      <th>r_player</th>\n",
       "      <th>l_wins</th>\n",
       "      <th>r_wins</th>\n",
       "    </tr>\n",
       "  </thead>\n",
       "  <tbody>\n",
       "    <tr>\n",
       "      <th>0</th>\n",
       "      <td>0</td>\n",
       "      <td>1</td>\n",
       "      <td>12</td>\n",
       "      <td>24</td>\n",
       "    </tr>\n",
       "    <tr>\n",
       "      <th>1</th>\n",
       "      <td>0</td>\n",
       "      <td>2</td>\n",
       "      <td>9</td>\n",
       "      <td>36</td>\n",
       "    </tr>\n",
       "    <tr>\n",
       "      <th>2</th>\n",
       "      <td>0</td>\n",
       "      <td>3</td>\n",
       "      <td>9</td>\n",
       "      <td>42</td>\n",
       "    </tr>\n",
       "    <tr>\n",
       "      <th>3</th>\n",
       "      <td>0</td>\n",
       "      <td>4</td>\n",
       "      <td>8</td>\n",
       "      <td>47</td>\n",
       "    </tr>\n",
       "    <tr>\n",
       "      <th>4</th>\n",
       "      <td>0</td>\n",
       "      <td>5</td>\n",
       "      <td>6</td>\n",
       "      <td>40</td>\n",
       "    </tr>\n",
       "    <tr>\n",
       "      <th>...</th>\n",
       "      <td>...</td>\n",
       "      <td>...</td>\n",
       "      <td>...</td>\n",
       "      <td>...</td>\n",
       "    </tr>\n",
       "    <tr>\n",
       "      <th>85</th>\n",
       "      <td>9</td>\n",
       "      <td>4</td>\n",
       "      <td>28</td>\n",
       "      <td>13</td>\n",
       "    </tr>\n",
       "    <tr>\n",
       "      <th>86</th>\n",
       "      <td>9</td>\n",
       "      <td>5</td>\n",
       "      <td>29</td>\n",
       "      <td>18</td>\n",
       "    </tr>\n",
       "    <tr>\n",
       "      <th>87</th>\n",
       "      <td>9</td>\n",
       "      <td>6</td>\n",
       "      <td>29</td>\n",
       "      <td>19</td>\n",
       "    </tr>\n",
       "    <tr>\n",
       "      <th>88</th>\n",
       "      <td>9</td>\n",
       "      <td>7</td>\n",
       "      <td>29</td>\n",
       "      <td>20</td>\n",
       "    </tr>\n",
       "    <tr>\n",
       "      <th>89</th>\n",
       "      <td>9</td>\n",
       "      <td>8</td>\n",
       "      <td>27</td>\n",
       "      <td>25</td>\n",
       "    </tr>\n",
       "  </tbody>\n",
       "</table>\n",
       "<p>90 rows × 4 columns</p>\n",
       "</div>"
      ],
      "text/plain": [
       "    l_player  r_player  l_wins  r_wins\n",
       "0          0         1      12      24\n",
       "1          0         2       9      36\n",
       "2          0         3       9      42\n",
       "3          0         4       8      47\n",
       "4          0         5       6      40\n",
       "..       ...       ...     ...     ...\n",
       "85         9         4      28      13\n",
       "86         9         5      29      18\n",
       "87         9         6      29      19\n",
       "88         9         7      29      20\n",
       "89         9         8      27      25\n",
       "\n",
       "[90 rows x 4 columns]"
      ]
     },
     "execution_count": 183,
     "metadata": {},
     "output_type": "execute_result"
    }
   ],
   "source": [
    "totals_df"
   ]
  },
  {
   "cell_type": "code",
   "execution_count": 184,
   "id": "e6e7bf91-af3c-4df7-8928-b5fb705c19bf",
   "metadata": {},
   "outputs": [
    {
     "data": {
      "text/html": [
       "<div>\n",
       "<style scoped>\n",
       "    .dataframe tbody tr th:only-of-type {\n",
       "        vertical-align: middle;\n",
       "    }\n",
       "\n",
       "    .dataframe tbody tr th {\n",
       "        vertical-align: top;\n",
       "    }\n",
       "\n",
       "    .dataframe thead th {\n",
       "        text-align: right;\n",
       "    }\n",
       "</style>\n",
       "<table border=\"1\" class=\"dataframe\">\n",
       "  <thead>\n",
       "    <tr style=\"text-align: right;\">\n",
       "      <th></th>\n",
       "      <th>l_player</th>\n",
       "      <th>r_player</th>\n",
       "      <th>l_wins</th>\n",
       "      <th>r_wins</th>\n",
       "    </tr>\n",
       "  </thead>\n",
       "  <tbody>\n",
       "    <tr>\n",
       "      <th>9</th>\n",
       "      <td>1</td>\n",
       "      <td>0</td>\n",
       "      <td>22</td>\n",
       "      <td>19</td>\n",
       "    </tr>\n",
       "    <tr>\n",
       "      <th>10</th>\n",
       "      <td>1</td>\n",
       "      <td>2</td>\n",
       "      <td>18</td>\n",
       "      <td>25</td>\n",
       "    </tr>\n",
       "    <tr>\n",
       "      <th>11</th>\n",
       "      <td>1</td>\n",
       "      <td>3</td>\n",
       "      <td>15</td>\n",
       "      <td>23</td>\n",
       "    </tr>\n",
       "    <tr>\n",
       "      <th>12</th>\n",
       "      <td>1</td>\n",
       "      <td>4</td>\n",
       "      <td>11</td>\n",
       "      <td>36</td>\n",
       "    </tr>\n",
       "    <tr>\n",
       "      <th>13</th>\n",
       "      <td>1</td>\n",
       "      <td>5</td>\n",
       "      <td>11</td>\n",
       "      <td>25</td>\n",
       "    </tr>\n",
       "    <tr>\n",
       "      <th>14</th>\n",
       "      <td>1</td>\n",
       "      <td>6</td>\n",
       "      <td>9</td>\n",
       "      <td>38</td>\n",
       "    </tr>\n",
       "    <tr>\n",
       "      <th>15</th>\n",
       "      <td>1</td>\n",
       "      <td>7</td>\n",
       "      <td>4</td>\n",
       "      <td>32</td>\n",
       "    </tr>\n",
       "    <tr>\n",
       "      <th>16</th>\n",
       "      <td>1</td>\n",
       "      <td>8</td>\n",
       "      <td>4</td>\n",
       "      <td>35</td>\n",
       "    </tr>\n",
       "    <tr>\n",
       "      <th>17</th>\n",
       "      <td>1</td>\n",
       "      <td>9</td>\n",
       "      <td>11</td>\n",
       "      <td>38</td>\n",
       "    </tr>\n",
       "  </tbody>\n",
       "</table>\n",
       "</div>"
      ],
      "text/plain": [
       "    l_player  r_player  l_wins  r_wins\n",
       "9          1         0      22      19\n",
       "10         1         2      18      25\n",
       "11         1         3      15      23\n",
       "12         1         4      11      36\n",
       "13         1         5      11      25\n",
       "14         1         6       9      38\n",
       "15         1         7       4      32\n",
       "16         1         8       4      35\n",
       "17         1         9      11      38"
      ]
     },
     "execution_count": 184,
     "metadata": {},
     "output_type": "execute_result"
    }
   ],
   "source": [
    "totals_df[totals_df['l_player']==1]"
   ]
  },
  {
   "cell_type": "code",
   "execution_count": 185,
   "id": "96c915ed-81c2-4070-b766-aceaec4ae310",
   "metadata": {},
   "outputs": [
    {
     "data": {
      "text/html": [
       "<div>\n",
       "<style scoped>\n",
       "    .dataframe tbody tr th:only-of-type {\n",
       "        vertical-align: middle;\n",
       "    }\n",
       "\n",
       "    .dataframe tbody tr th {\n",
       "        vertical-align: top;\n",
       "    }\n",
       "\n",
       "    .dataframe thead th {\n",
       "        text-align: right;\n",
       "    }\n",
       "</style>\n",
       "<table border=\"1\" class=\"dataframe\">\n",
       "  <thead>\n",
       "    <tr style=\"text-align: right;\">\n",
       "      <th></th>\n",
       "      <th>l_player</th>\n",
       "      <th>r_player</th>\n",
       "      <th>l_wins</th>\n",
       "      <th>r_wins</th>\n",
       "    </tr>\n",
       "  </thead>\n",
       "  <tbody>\n",
       "    <tr>\n",
       "      <th>0</th>\n",
       "      <td>0</td>\n",
       "      <td>1</td>\n",
       "      <td>12</td>\n",
       "      <td>24</td>\n",
       "    </tr>\n",
       "    <tr>\n",
       "      <th>19</th>\n",
       "      <td>2</td>\n",
       "      <td>1</td>\n",
       "      <td>27</td>\n",
       "      <td>18</td>\n",
       "    </tr>\n",
       "    <tr>\n",
       "      <th>28</th>\n",
       "      <td>3</td>\n",
       "      <td>1</td>\n",
       "      <td>40</td>\n",
       "      <td>23</td>\n",
       "    </tr>\n",
       "    <tr>\n",
       "      <th>37</th>\n",
       "      <td>4</td>\n",
       "      <td>1</td>\n",
       "      <td>23</td>\n",
       "      <td>14</td>\n",
       "    </tr>\n",
       "    <tr>\n",
       "      <th>46</th>\n",
       "      <td>5</td>\n",
       "      <td>1</td>\n",
       "      <td>40</td>\n",
       "      <td>14</td>\n",
       "    </tr>\n",
       "    <tr>\n",
       "      <th>55</th>\n",
       "      <td>6</td>\n",
       "      <td>1</td>\n",
       "      <td>43</td>\n",
       "      <td>8</td>\n",
       "    </tr>\n",
       "    <tr>\n",
       "      <th>64</th>\n",
       "      <td>7</td>\n",
       "      <td>1</td>\n",
       "      <td>35</td>\n",
       "      <td>7</td>\n",
       "    </tr>\n",
       "    <tr>\n",
       "      <th>73</th>\n",
       "      <td>8</td>\n",
       "      <td>1</td>\n",
       "      <td>29</td>\n",
       "      <td>11</td>\n",
       "    </tr>\n",
       "    <tr>\n",
       "      <th>82</th>\n",
       "      <td>9</td>\n",
       "      <td>1</td>\n",
       "      <td>39</td>\n",
       "      <td>3</td>\n",
       "    </tr>\n",
       "  </tbody>\n",
       "</table>\n",
       "</div>"
      ],
      "text/plain": [
       "    l_player  r_player  l_wins  r_wins\n",
       "0          0         1      12      24\n",
       "19         2         1      27      18\n",
       "28         3         1      40      23\n",
       "37         4         1      23      14\n",
       "46         5         1      40      14\n",
       "55         6         1      43       8\n",
       "64         7         1      35       7\n",
       "73         8         1      29      11\n",
       "82         9         1      39       3"
      ]
     },
     "execution_count": 185,
     "metadata": {},
     "output_type": "execute_result"
    }
   ],
   "source": [
    "totals_df[totals_df['r_player']==1]"
   ]
  },
  {
   "cell_type": "code",
   "execution_count": 197,
   "id": "8a2ac4f0-00b6-4647-9071-17ea4b0a65ae",
   "metadata": {
    "tags": []
   },
   "outputs": [],
   "source": [
    "def reorder_df(raw_df):\n",
    "    merge_df_a = raw_df.rename(columns={'l_player':'player', 'r_player':'opponent', 'l_wins':'wins', 'r_wins':'losses'})\n",
    "    merge_df_a['bouts'] = merge_df_a['wins'] + merge_df_a['losses']\n",
    "    merge_df_b = raw_df.rename(columns={'r_player':'player', 'l_player':'opponent', 'r_wins':'wins', 'l_wins':'losses'})\n",
    "    merge_df_b['bouts'] = merge_df_b['wins'] + merge_df_b['losses']\n",
    "    return pd.concat([merge_df_a, merge_df_b], axis=0).groupby(['player','opponent']).sum().reset_index()"
   ]
  },
  {
   "cell_type": "code",
   "execution_count": 189,
   "id": "f0e1f68a-bdc1-40cf-9d7c-63df4f3cff8e",
   "metadata": {},
   "outputs": [],
   "source": [
    "def initialize(nWts):\n",
    "    return np.ones(nWts)"
   ]
  },
  {
   "cell_type": "code",
   "execution_count": 190,
   "id": "263e8d3c-b173-4924-bb70-2ff498f56006",
   "metadata": {},
   "outputs": [],
   "source": [
    "def mutate(w_vec, idx, rng, sigma=1.0):\n",
    "    norm_samp = rng.standard_normal(size=1)\n",
    "    scale_fac = np.exp(norm_samp)\n",
    "    rslt = w_vec.copy()\n",
    "    rslt[idx] *= scale_fac\n",
    "    return rslt"
   ]
  },
  {
   "cell_type": "code",
   "execution_count": 191,
   "id": "5b58dfec-7116-4b82-a7d0-cec26d849d3e",
   "metadata": {},
   "outputs": [],
   "source": [
    "def calc_p_ratio(idx, old_wts, new_wts, samples_df):\n",
    "    p_ratio = 1.0\n",
    "    w = old_wts[idx]\n",
    "    wprime = new_wts[idx]\n",
    "    #print(f\"idx {idx}: {w} -> {wprime}:\")\n",
    "    for rowidx, row in samples_df[samples_df.player==idx].iterrows():\n",
    "        #print(row)\n",
    "        op_idx = row['opponent']\n",
    "        w_op = old_wts[op_idx]\n",
    "        old_p_ratio = p_ratio\n",
    "        p_ratio *= np.power(wprime / w, row['wins'])\n",
    "        p_ratio *= np.power((w + w_op)/(wprime + w_op), row['bouts'])\n",
    "        #print(f\"  opponent={row['player']}, weight_opponent={w_op} p_ratio: {old_p_ratio} -> {p_ratio}\")\n",
    "    return p_ratio"
   ]
  },
  {
   "cell_type": "code",
   "execution_count": 192,
   "id": "946acc7a-f89a-46db-acf8-8c406fdd9d21",
   "metadata": {},
   "outputs": [],
   "source": [
    "def calc_p_ratio(idx, old_wts, new_wts, samples_df):\n",
    "    tot = 0.0\n",
    "    w = old_wts[idx]\n",
    "    wprime = new_wts[idx]\n",
    "    log_w_ratio = np.log(wprime/w)\n",
    "    for rowidx, row in samples_df[samples_df.player==idx].iterrows():\n",
    "        #print(row)\n",
    "        op_idx = row['opponent']\n",
    "        w_op = old_wts[op_idx]\n",
    "        tot += row['wins'] * log_w_ratio\n",
    "        tot += row['bouts'] * np.log((w + w_op)/(wprime + w_op))\n",
    "    return np.exp(tot)"
   ]
  },
  {
   "cell_type": "code",
   "execution_count": 201,
   "id": "12073509-7906-4abb-b779-be3e88ce9cf3",
   "metadata": {},
   "outputs": [],
   "source": [
    "def sweep(w_vec, win_loss_df, rng, sigma):\n",
    "    for idx in range(len(w_vec)):\n",
    "        new_w_vec = mutate(w_vec, idx, rng, sigma=sigma)\n",
    "        p_ratio = calc_p_ratio(idx, w_vec, new_w_vec, win_loss_df)\n",
    "        if np.random.random() <= p_ratio:\n",
    "            w_vec = new_w_vec\n",
    "    return w_vec"
   ]
  },
  {
   "cell_type": "code",
   "execution_count": 202,
   "id": "a293d180-738c-4fca-a8aa-d1eef562678e",
   "metadata": {},
   "outputs": [
    {
     "name": "stdout",
     "output_type": "stream",
     "text": [
      "burn-in complete\n",
      "0\n",
      "1\n",
      "2\n",
      "3\n",
      "4\n",
      "5\n",
      "6\n",
      "7\n",
      "8\n",
      "9\n",
      "10\n",
      "11\n",
      "12\n",
      "13\n",
      "14\n",
      "15\n",
      "16\n",
      "17\n",
      "18\n",
      "19\n",
      "20\n",
      "21\n",
      "22\n",
      "23\n",
      "24\n",
      "25\n",
      "26\n",
      "27\n",
      "28\n",
      "29\n",
      "30\n",
      "31\n",
      "32\n",
      "33\n",
      "34\n",
      "35\n",
      "36\n",
      "37\n",
      "38\n",
      "39\n",
      "40\n",
      "41\n",
      "42\n",
      "43\n",
      "44\n",
      "45\n",
      "46\n",
      "47\n",
      "48\n",
      "49\n",
      "50\n",
      "51\n",
      "52\n",
      "53\n",
      "54\n",
      "55\n",
      "56\n",
      "57\n",
      "58\n",
      "59\n",
      "60\n",
      "61\n",
      "62\n",
      "63\n",
      "64\n",
      "65\n",
      "66\n",
      "67\n",
      "68\n",
      "69\n",
      "70\n",
      "71\n",
      "72\n",
      "73\n",
      "74\n",
      "75\n",
      "76\n",
      "77\n",
      "78\n",
      "79\n",
      "80\n",
      "81\n",
      "82\n",
      "83\n",
      "84\n",
      "85\n",
      "86\n",
      "87\n",
      "88\n",
      "89\n",
      "90\n",
      "91\n",
      "92\n",
      "93\n",
      "94\n",
      "95\n",
      "96\n",
      "97\n",
      "98\n",
      "99\n"
     ]
    }
   ],
   "source": [
    "burnin_sweeps = 1000\n",
    "n_samp = 100\n",
    "sweeps_per_samp = 100\n",
    "rng = np.random.default_rng()\n",
    "n_players = len(player_wts)  # we are trying to infer player_wts\n",
    "w_vec = initialize(n_players)\n",
    "reordered_df = reorder_df(totals_df)\n",
    "# burn-in\n",
    "for iter in range(burnin_sweeps):\n",
    "    w_vec = sweep(w_vec, reordered_df, rng, sigma=0.1)\n",
    "    w_vec /= w_vec[0]  # rescale\n",
    "    #print(iter, w_vec)\n",
    "print('burn-in complete')\n",
    "samp_l = []\n",
    "for samp in range(n_samp):\n",
    "    for iter in range(sweeps_per_samp):\n",
    "        w_vec = sweep(w_vec, reordered_df, rng, sigma=0.1)\n",
    "        w_vec /= w_vec[0]  # rescale\n",
    "    samp_l.append(w_vec.copy())\n",
    "    print(samp)\n"
   ]
  },
  {
   "cell_type": "code",
   "execution_count": 203,
   "id": "a224a132-7dce-464a-b228-216e8623085c",
   "metadata": {},
   "outputs": [],
   "source": [
    "samp_array = np.empty((len(samp_l), len(samp_l[0])))\n",
    "for idx, vec in enumerate(samp_l):\n",
    "    samp_array[idx, :] = vec"
   ]
  },
  {
   "cell_type": "code",
   "execution_count": 204,
   "id": "5667a040-8c16-414f-9509-919f5e6c6cff",
   "metadata": {},
   "outputs": [
    {
     "name": "stdout",
     "output_type": "stream",
     "text": [
      "AxesSubplot(0.125,0.125;0.775x0.755)\n"
     ]
    },
    {
     "name": "stderr",
     "output_type": "stream",
     "text": [
      "<ipython-input-204-b94447bfe202>:4: UserWarning: Matplotlib is currently using module://ipykernel.pylab.backend_inline, which is a non-GUI backend, so cannot show the figure.\n",
      "  fig.show()\n"
     ]
    },
    {
     "data": {
      "image/png": "[encoded data removed]",
      "text/plain": [
       "<Figure size 432x288 with 1 Axes>"
      ]
     },
     "metadata": {
      "needs_background": "light"
     },
     "output_type": "display_data"
    }
   ],
   "source": [
    "fig, axes = plt.subplots(ncols=1, nrows=1)\n",
    "print(axes)\n",
    "axes.violinplot(samp_array)\n",
    "fig.show()"
   ]
  },
  {
   "cell_type": "code",
   "execution_count": 178,
   "id": "dd717612-8b25-4db5-9710-523c8ee3d8a8",
   "metadata": {},
   "outputs": [
    {
     "name": "stdout",
     "output_type": "stream",
     "text": [
      "AxesSubplot(0.125,0.125;0.775x0.755)\n"
     ]
    },
    {
     "name": "stderr",
     "output_type": "stream",
     "text": [
      "<ipython-input-178-b94447bfe202>:4: UserWarning: Matplotlib is currently using module://ipykernel.pylab.backend_inline, which is a non-GUI backend, so cannot show the figure.\n",
      "  fig.show()\n"
     ]
    },
    {
     "data": {
      "image/png": "[encoded data removed]",
      "text/plain": [
       "<Figure size 432x288 with 1 Axes>"
      ]
     },
     "metadata": {
      "needs_background": "light"
     },
     "output_type": "display_data"
    }
   ],
   "source": [
    "fig, axes = plt.subplots(ncols=1, nrows=1)\n",
    "print(axes)\n",
    "axes.violinplot(samp_array)\n",
    "fig.show()"
   ]
  },
  {
   "cell_type": "code",
   "execution_count": 143,
   "id": "91256c9f-b3f2-4fa8-93eb-6ad53c9b27cf",
   "metadata": {},
   "outputs": [
    {
     "data": {
      "image/png": "[encoded data removed]",
      "text/plain": [
       "<Figure size 432x288 with 1 Axes>"
      ]
     },
     "metadata": {
      "needs_background": "light"
     },
     "output_type": "display_data"
    },
    {
     "data": {
      "image/png": "[encoded data removed]",
      "text/plain": [
       "<Figure size 432x288 with 1 Axes>"
      ]
     },
     "metadata": {
      "needs_background": "light"
     },
     "output_type": "display_data"
    },
    {
     "data": {
      "image/png": "[encoded data removed]",
      "text/plain": [
       "<Figure size 432x288 with 1 Axes>"
      ]
     },
     "metadata": {
      "needs_background": "light"
     },
     "output_type": "display_data"
    },
    {
     "data": {
      "image/png": "[encoded data removed]",
      "text/plain": [
       "<Figure size 432x288 with 1 Axes>"
      ]
     },
     "metadata": {
      "needs_background": "light"
     },
     "output_type": "display_data"
    },
    {
     "data": {
      "image/png": "[encoded data removed]",
      "text/plain": [
       "<Figure size 432x288 with 1 Axes>"
      ]
     },
     "metadata": {
      "needs_background": "light"
     },
     "output_type": "display_data"
    }
   ],
   "source": [
    "for idx in range(n_players):\n",
    "    plt.title(idx)\n",
    "    plt.hist([v[idx] for v in samp_l], range=[0.0, 20.0])\n",
    "    plt.show()"
   ]
  },
  {
   "cell_type": "code",
   "execution_count": 125,
   "id": "403a399c-8736-4f99-8444-56f15816d795",
   "metadata": {},
   "outputs": [
    {
     "name": "stdout",
     "output_type": "stream",
     "text": [
      "[1.00000000e+00 3.15354013e+00 2.92204429e+00 4.30306593e+01\n",
      " 2.37436278e+01 3.64135760e+00 1.75989108e+01 6.19411295e+20\n",
      " 4.73572270e+00 3.36279305e+00]\n",
      "[1.00000000e+00 3.15354013e+00 2.92204429e+00 8.19315573e+01\n",
      " 2.37436278e+01 3.64135760e+00 1.75989108e+01 6.19411295e+20\n",
      " 4.73572270e+00 3.36279305e+00]\n",
      "[1.00000000e+00 3.15354013e+00 2.92204429e+00 9.05832120e+01\n",
      " 2.37436278e+01 3.64135760e+00 1.75989108e+01 6.19411295e+20\n",
      " 4.73572270e+00 3.36279305e+00]\n",
      "[1.00000000e+00 3.15354013e+00 2.92204429e+00 1.57036131e+02\n",
      " 2.37436278e+01 3.64135760e+00 1.75989108e+01 6.19411295e+20\n",
      " 4.73572270e+00 3.36279305e+00]\n",
      "[1.00000000e+00 3.15354013e+00 2.92204429e+00 1.80674142e+01\n",
      " 2.37436278e+01 3.64135760e+00 1.75989108e+01 6.19411295e+20\n",
      " 4.73572270e+00 3.36279305e+00]\n",
      "[1.00000000e+00 3.15354013e+00 2.92204429e+00 3.91368396e+01\n",
      " 2.37436278e+01 3.64135760e+00 1.75989108e+01 6.19411295e+20\n",
      " 4.73572270e+00 3.36279305e+00]\n",
      "[1.00000000e+00 3.15354013e+00 2.92204429e+00 2.73565981e+01\n",
      " 2.37436278e+01 3.64135760e+00 1.75989108e+01 6.19411295e+20\n",
      " 4.73572270e+00 3.36279305e+00]\n"
     ]
    }
   ],
   "source": [
    "rng = np.random.default_rng()\n",
    "for i in range(7):\n",
    "    w_vec = mutate(w_vec, 3, rng, sigma=0.2)\n",
    "    print(w_vec)"
   ]
  },
  {
   "cell_type": "code",
   "execution_count": 38,
   "id": "2016c748-44b2-4e26-ba99-4b1e6b865b9f",
   "metadata": {},
   "outputs": [
    {
     "name": "stdout",
     "output_type": "stream",
     "text": [
      "[ 4.62751278e-02  1.92739976e-02  2.78453598e-01  5.56477021e-01\n",
      "  1.50966000e+00 -8.59554544e-01 -4.12515716e-01 -4.90642342e-01\n",
      " -7.46452047e-02 -7.80648762e-01  1.39380560e-01  9.16690735e-01\n",
      "  7.45714988e-02 -3.56676673e-01 -1.60829870e+00 -1.50534317e+00\n",
      " -7.60107090e-01  1.75279543e-03 -6.61985602e-01 -4.68890654e-01\n",
      " -1.25296501e+00 -5.55339603e-01 -1.14217426e+00 -6.26829145e-01\n",
      " -1.07976453e+00 -6.18942823e-02  1.69316490e-01  3.09991587e-01\n",
      " -1.57735870e-01  1.07652204e+00 -4.08117920e-01 -1.06473028e+00\n",
      " -1.12165387e+00 -3.00579397e-01  6.64806317e-03 -8.18626754e-01\n",
      "  7.17753204e-01 -1.94787020e-01  4.43364966e-01 -2.54610208e+00\n",
      "  3.45116098e-03  3.75138695e-01  7.27154067e-01  1.11486866e+00\n",
      "  3.01304508e-01 -6.01177562e-02 -3.39415303e-01  1.91238957e-01\n",
      " -3.94445151e-01 -1.21892141e+00 -4.78977608e-01  1.37289827e+00\n",
      "  3.57562885e-01  1.54901666e+00 -9.30178446e-01 -8.82320579e-01\n",
      " -1.11705626e+00 -2.44797777e-01  1.16731784e-01 -1.67903976e-01\n",
      "  2.88643286e-01 -1.05303279e+00  3.15751679e-01 -1.05270592e+00\n",
      " -3.98753188e-02  7.62664241e-01  1.13508820e-01  5.15325455e-01\n",
      " -2.14334069e+00  9.92703997e-02 -1.33171824e+00  3.11547331e-01\n",
      "  1.94949273e-01 -2.66112290e-01  3.45884820e-01  3.66473415e-01\n",
      " -4.43735734e-01 -9.55270436e-01 -6.84270904e-01 -1.50526110e+00\n",
      " -8.53024191e-01 -1.60034973e+00  8.66778015e-01 -1.01450389e+00\n",
      "  3.69286454e-01  2.39342488e-01  7.19487376e-02 -3.85695826e-01\n",
      " -5.53676556e-01 -1.79944355e-01  1.16870180e+00 -4.11714887e-01\n",
      " -4.43784967e-01  8.47890430e-01  1.10314194e-01 -1.77647730e+00\n",
      " -1.53333762e+00  5.01285913e-01 -3.90844791e-01 -2.65599325e-01]\n"
     ]
    }
   ],
   "source": [
    "rng = np.random.default_rng()\n",
    "print(rng.standard_normal(size=100))"
   ]
  },
  {
   "cell_type": "code",
   "execution_count": null,
   "id": "1905e322-4d16-4eb5-bb60-a0888b603ba1",
   "metadata": {},
   "outputs": [],
   "source": []
  }
 ],
 "metadata": {
  "kernelspec": {
   "display_name": "lordbayesEnv",
   "language": "python",
   "name": "lordbayesenv"
  },
  "language_info": {
   "codemirror_mode": {
    "name": "ipython",
    "version": 3
   },
   "file_extension": ".py",
   "mimetype": "text/x-python",
   "name": "python",
   "nbconvert_exporter": "python",
   "pygments_lexer": "ipython3",
   "version": "3.9.5"
  }
 },
 "nbformat": 4,
 "nbformat_minor": 5
}
