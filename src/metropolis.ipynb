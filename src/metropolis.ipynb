{
 "cells": [
  {
   "cell_type": "code",
   "execution_count": 120,
   "id": "70ccdfb8-4991-437a-94e5-e008ccb1349d",
   "metadata": {},
   "outputs": [],
   "source": [
    "import numpy as np\n",
    "import scipy as sp\n",
    "import pandas as pd\n",
    "import matplotlib.pyplot as plt"
   ]
  },
  {
   "cell_type": "code",
   "execution_count": 3,
   "id": "ecefb8f5-2ec4-4ab9-9a9a-2e062d6a4d84",
   "metadata": {},
   "outputs": [],
   "source": [
    "small_bouts_df = pd.read_csv('/home/welling/Downloads/bouts (8).tsv', sep='\\t')"
   ]
  },
  {
   "cell_type": "code",
   "execution_count": 4,
   "id": "c868ed67-2921-4f39-b4c1-cfdb94e359d9",
   "metadata": {},
   "outputs": [
    {
     "data": {
      "text/html": [
       "<div>\n",
       "<style scoped>\n",
       "    .dataframe tbody tr th:only-of-type {\n",
       "        vertical-align: middle;\n",
       "    }\n",
       "\n",
       "    .dataframe tbody tr th {\n",
       "        vertical-align: top;\n",
       "    }\n",
       "\n",
       "    .dataframe thead th {\n",
       "        text-align: right;\n",
       "    }\n",
       "</style>\n",
       "<table border=\"1\" class=\"dataframe\">\n",
       "  <thead>\n",
       "    <tr style=\"text-align: right;\">\n",
       "      <th></th>\n",
       "      <th>boutId</th>\n",
       "      <th>tourneyId</th>\n",
       "      <th>leftWins</th>\n",
       "      <th>leftPlayerId</th>\n",
       "      <th>rightPlayerId</th>\n",
       "      <th>rightWins</th>\n",
       "      <th>draws</th>\n",
       "      <th>note</th>\n",
       "    </tr>\n",
       "  </thead>\n",
       "  <tbody>\n",
       "    <tr>\n",
       "      <th>0</th>\n",
       "      <td>5</td>\n",
       "      <td>3</td>\n",
       "      <td>2</td>\n",
       "      <td>7</td>\n",
       "      <td>6</td>\n",
       "      <td>1</td>\n",
       "      <td>0</td>\n",
       "      <td>NaN</td>\n",
       "    </tr>\n",
       "    <tr>\n",
       "      <th>1</th>\n",
       "      <td>6</td>\n",
       "      <td>3</td>\n",
       "      <td>1</td>\n",
       "      <td>6</td>\n",
       "      <td>8</td>\n",
       "      <td>1</td>\n",
       "      <td>0</td>\n",
       "      <td>NaN</td>\n",
       "    </tr>\n",
       "    <tr>\n",
       "      <th>2</th>\n",
       "      <td>7</td>\n",
       "      <td>3</td>\n",
       "      <td>1</td>\n",
       "      <td>6</td>\n",
       "      <td>12</td>\n",
       "      <td>1</td>\n",
       "      <td>0</td>\n",
       "      <td>NaN</td>\n",
       "    </tr>\n",
       "    <tr>\n",
       "      <th>3</th>\n",
       "      <td>8</td>\n",
       "      <td>3</td>\n",
       "      <td>0</td>\n",
       "      <td>6</td>\n",
       "      <td>9</td>\n",
       "      <td>1</td>\n",
       "      <td>0</td>\n",
       "      <td>NaN</td>\n",
       "    </tr>\n",
       "    <tr>\n",
       "      <th>4</th>\n",
       "      <td>9</td>\n",
       "      <td>3</td>\n",
       "      <td>2</td>\n",
       "      <td>6</td>\n",
       "      <td>10</td>\n",
       "      <td>3</td>\n",
       "      <td>1</td>\n",
       "      <td>NaN</td>\n",
       "    </tr>\n",
       "    <tr>\n",
       "      <th>5</th>\n",
       "      <td>10</td>\n",
       "      <td>3</td>\n",
       "      <td>2</td>\n",
       "      <td>6</td>\n",
       "      <td>11</td>\n",
       "      <td>0</td>\n",
       "      <td>0</td>\n",
       "      <td>NaN</td>\n",
       "    </tr>\n",
       "    <tr>\n",
       "      <th>6</th>\n",
       "      <td>11</td>\n",
       "      <td>3</td>\n",
       "      <td>2</td>\n",
       "      <td>7</td>\n",
       "      <td>8</td>\n",
       "      <td>2</td>\n",
       "      <td>0</td>\n",
       "      <td>NaN</td>\n",
       "    </tr>\n",
       "    <tr>\n",
       "      <th>7</th>\n",
       "      <td>12</td>\n",
       "      <td>3</td>\n",
       "      <td>2</td>\n",
       "      <td>7</td>\n",
       "      <td>12</td>\n",
       "      <td>0</td>\n",
       "      <td>0</td>\n",
       "      <td>NaN</td>\n",
       "    </tr>\n",
       "    <tr>\n",
       "      <th>8</th>\n",
       "      <td>13</td>\n",
       "      <td>3</td>\n",
       "      <td>1</td>\n",
       "      <td>7</td>\n",
       "      <td>10</td>\n",
       "      <td>1</td>\n",
       "      <td>0</td>\n",
       "      <td>NaN</td>\n",
       "    </tr>\n",
       "    <tr>\n",
       "      <th>9</th>\n",
       "      <td>14</td>\n",
       "      <td>3</td>\n",
       "      <td>2</td>\n",
       "      <td>7</td>\n",
       "      <td>11</td>\n",
       "      <td>1</td>\n",
       "      <td>0</td>\n",
       "      <td>NaN</td>\n",
       "    </tr>\n",
       "  </tbody>\n",
       "</table>\n",
       "</div>"
      ],
      "text/plain": [
       "   boutId  tourneyId  leftWins  leftPlayerId  rightPlayerId  rightWins  draws  \\\n",
       "0       5          3         2             7              6          1      0   \n",
       "1       6          3         1             6              8          1      0   \n",
       "2       7          3         1             6             12          1      0   \n",
       "3       8          3         0             6              9          1      0   \n",
       "4       9          3         2             6             10          3      1   \n",
       "5      10          3         2             6             11          0      0   \n",
       "6      11          3         2             7              8          2      0   \n",
       "7      12          3         2             7             12          0      0   \n",
       "8      13          3         1             7             10          1      0   \n",
       "9      14          3         2             7             11          1      0   \n",
       "\n",
       "   note  \n",
       "0   NaN  \n",
       "1   NaN  \n",
       "2   NaN  \n",
       "3   NaN  \n",
       "4   NaN  \n",
       "5   NaN  \n",
       "6   NaN  \n",
       "7   NaN  \n",
       "8   NaN  \n",
       "9   NaN  "
      ]
     },
     "execution_count": 4,
     "metadata": {},
     "output_type": "execute_result"
    }
   ],
   "source": [
    "small_bouts_df"
   ]
  },
  {
   "cell_type": "code",
   "execution_count": 276,
   "id": "aa23744f-a5f8-47c6-bdb7-08eb6311a8b4",
   "metadata": {},
   "outputs": [],
   "source": [
    "n_players = 10\n",
    "#n_players = 3\n",
    "player_wts = np.zeros(n_players, dtype=float)"
   ]
  },
  {
   "cell_type": "code",
   "execution_count": 277,
   "id": "1afa2295-3071-4c90-8be6-f1e7e7a06b83",
   "metadata": {},
   "outputs": [],
   "source": [
    "for i in range(n_players):\n",
    "    player_wts[i] = i+1"
   ]
  },
  {
   "cell_type": "code",
   "execution_count": 278,
   "id": "e2ca4747-4008-4bf9-8697-9361f480d211",
   "metadata": {},
   "outputs": [],
   "source": [
    "npairs = 4000\n",
    "outcomes = []\n",
    "for pair in range(npairs):\n",
    "    l_player = np.random.choice(range(n_players))\n",
    "    r_player = np.random.choice(range(n_players-1))\n",
    "    if r_player >= l_player:\n",
    "        r_player += 1\n",
    "    l_prob = player_wts[l_player] / (player_wts[l_player] + player_wts[r_player])\n",
    "    if np.random.random() <= l_prob:\n",
    "        outcomes.append({'l_player':l_player, 'r_player':r_player, 'l_wins':1, 'r_wins':0})\n",
    "    else:\n",
    "        outcomes.append({'l_player':l_player, 'r_player':r_player, 'l_wins':0, 'r_wins':1})\n",
    "outcomes_df = pd.DataFrame(outcomes)"
   ]
  },
  {
   "cell_type": "code",
   "execution_count": 279,
   "id": "06b468c3-8b86-48c1-8965-194b4d6c03b6",
   "metadata": {},
   "outputs": [
    {
     "data": {
      "text/html": [
       "<div>\n",
       "<style scoped>\n",
       "    .dataframe tbody tr th:only-of-type {\n",
       "        vertical-align: middle;\n",
       "    }\n",
       "\n",
       "    .dataframe tbody tr th {\n",
       "        vertical-align: top;\n",
       "    }\n",
       "\n",
       "    .dataframe thead th {\n",
       "        text-align: right;\n",
       "    }\n",
       "</style>\n",
       "<table border=\"1\" class=\"dataframe\">\n",
       "  <thead>\n",
       "    <tr style=\"text-align: right;\">\n",
       "      <th></th>\n",
       "      <th>l_player</th>\n",
       "      <th>r_player</th>\n",
       "      <th>l_wins</th>\n",
       "      <th>r_wins</th>\n",
       "    </tr>\n",
       "  </thead>\n",
       "  <tbody>\n",
       "    <tr>\n",
       "      <th>0</th>\n",
       "      <td>3</td>\n",
       "      <td>2</td>\n",
       "      <td>1</td>\n",
       "      <td>0</td>\n",
       "    </tr>\n",
       "    <tr>\n",
       "      <th>1</th>\n",
       "      <td>2</td>\n",
       "      <td>6</td>\n",
       "      <td>0</td>\n",
       "      <td>1</td>\n",
       "    </tr>\n",
       "    <tr>\n",
       "      <th>2</th>\n",
       "      <td>4</td>\n",
       "      <td>3</td>\n",
       "      <td>1</td>\n",
       "      <td>0</td>\n",
       "    </tr>\n",
       "    <tr>\n",
       "      <th>3</th>\n",
       "      <td>3</td>\n",
       "      <td>0</td>\n",
       "      <td>1</td>\n",
       "      <td>0</td>\n",
       "    </tr>\n",
       "    <tr>\n",
       "      <th>4</th>\n",
       "      <td>1</td>\n",
       "      <td>7</td>\n",
       "      <td>0</td>\n",
       "      <td>1</td>\n",
       "    </tr>\n",
       "  </tbody>\n",
       "</table>\n",
       "</div>"
      ],
      "text/plain": [
       "   l_player  r_player  l_wins  r_wins\n",
       "0         3         2       1       0\n",
       "1         2         6       0       1\n",
       "2         4         3       1       0\n",
       "3         3         0       1       0\n",
       "4         1         7       0       1"
      ]
     },
     "execution_count": 279,
     "metadata": {},
     "output_type": "execute_result"
    }
   ],
   "source": [
    "outcomes_df.head()"
   ]
  },
  {
   "cell_type": "code",
   "execution_count": 280,
   "id": "293afe75-171c-481b-b43f-409782a13aa7",
   "metadata": {},
   "outputs": [],
   "source": [
    "totals_df = outcomes_df.groupby(['l_player','r_player']).sum()"
   ]
  },
  {
   "cell_type": "code",
   "execution_count": 281,
   "id": "2b7034bf-df08-4bc1-aa25-8c644e2fd3e1",
   "metadata": {},
   "outputs": [],
   "source": [
    "totals_df = totals_df.reset_index()"
   ]
  },
  {
   "cell_type": "code",
   "execution_count": 282,
   "id": "54a239e2-2428-44cf-bcd7-ef93fa00c643",
   "metadata": {},
   "outputs": [
    {
     "data": {
      "text/html": [
       "<div>\n",
       "<style scoped>\n",
       "    .dataframe tbody tr th:only-of-type {\n",
       "        vertical-align: middle;\n",
       "    }\n",
       "\n",
       "    .dataframe tbody tr th {\n",
       "        vertical-align: top;\n",
       "    }\n",
       "\n",
       "    .dataframe thead th {\n",
       "        text-align: right;\n",
       "    }\n",
       "</style>\n",
       "<table border=\"1\" class=\"dataframe\">\n",
       "  <thead>\n",
       "    <tr style=\"text-align: right;\">\n",
       "      <th></th>\n",
       "      <th>l_player</th>\n",
       "      <th>r_player</th>\n",
       "      <th>l_wins</th>\n",
       "      <th>r_wins</th>\n",
       "    </tr>\n",
       "  </thead>\n",
       "  <tbody>\n",
       "    <tr>\n",
       "      <th>0</th>\n",
       "      <td>0</td>\n",
       "      <td>1</td>\n",
       "      <td>20</td>\n",
       "      <td>28</td>\n",
       "    </tr>\n",
       "    <tr>\n",
       "      <th>1</th>\n",
       "      <td>0</td>\n",
       "      <td>2</td>\n",
       "      <td>10</td>\n",
       "      <td>40</td>\n",
       "    </tr>\n",
       "    <tr>\n",
       "      <th>2</th>\n",
       "      <td>0</td>\n",
       "      <td>3</td>\n",
       "      <td>15</td>\n",
       "      <td>28</td>\n",
       "    </tr>\n",
       "    <tr>\n",
       "      <th>3</th>\n",
       "      <td>0</td>\n",
       "      <td>4</td>\n",
       "      <td>5</td>\n",
       "      <td>39</td>\n",
       "    </tr>\n",
       "    <tr>\n",
       "      <th>4</th>\n",
       "      <td>0</td>\n",
       "      <td>5</td>\n",
       "      <td>7</td>\n",
       "      <td>38</td>\n",
       "    </tr>\n",
       "    <tr>\n",
       "      <th>...</th>\n",
       "      <td>...</td>\n",
       "      <td>...</td>\n",
       "      <td>...</td>\n",
       "      <td>...</td>\n",
       "    </tr>\n",
       "    <tr>\n",
       "      <th>85</th>\n",
       "      <td>9</td>\n",
       "      <td>4</td>\n",
       "      <td>38</td>\n",
       "      <td>19</td>\n",
       "    </tr>\n",
       "    <tr>\n",
       "      <th>86</th>\n",
       "      <td>9</td>\n",
       "      <td>5</td>\n",
       "      <td>18</td>\n",
       "      <td>17</td>\n",
       "    </tr>\n",
       "    <tr>\n",
       "      <th>87</th>\n",
       "      <td>9</td>\n",
       "      <td>6</td>\n",
       "      <td>23</td>\n",
       "      <td>15</td>\n",
       "    </tr>\n",
       "    <tr>\n",
       "      <th>88</th>\n",
       "      <td>9</td>\n",
       "      <td>7</td>\n",
       "      <td>33</td>\n",
       "      <td>14</td>\n",
       "    </tr>\n",
       "    <tr>\n",
       "      <th>89</th>\n",
       "      <td>9</td>\n",
       "      <td>8</td>\n",
       "      <td>23</td>\n",
       "      <td>20</td>\n",
       "    </tr>\n",
       "  </tbody>\n",
       "</table>\n",
       "<p>90 rows × 4 columns</p>\n",
       "</div>"
      ],
      "text/plain": [
       "    l_player  r_player  l_wins  r_wins\n",
       "0          0         1      20      28\n",
       "1          0         2      10      40\n",
       "2          0         3      15      28\n",
       "3          0         4       5      39\n",
       "4          0         5       7      38\n",
       "..       ...       ...     ...     ...\n",
       "85         9         4      38      19\n",
       "86         9         5      18      17\n",
       "87         9         6      23      15\n",
       "88         9         7      33      14\n",
       "89         9         8      23      20\n",
       "\n",
       "[90 rows x 4 columns]"
      ]
     },
     "execution_count": 282,
     "metadata": {},
     "output_type": "execute_result"
    }
   ],
   "source": [
    "totals_df"
   ]
  },
  {
   "cell_type": "code",
   "execution_count": 283,
   "id": "8a2ac4f0-00b6-4647-9071-17ea4b0a65ae",
   "metadata": {
    "tags": []
   },
   "outputs": [],
   "source": [
    "def reorder_df(raw_df):\n",
    "    merge_df_a = raw_df.rename(columns={'l_player':'player', 'r_player':'opponent', 'l_wins':'wins', 'r_wins':'losses'})\n",
    "    merge_df_a['bouts'] = merge_df_a['wins'] + merge_df_a['losses']\n",
    "    merge_df_b = raw_df.rename(columns={'r_player':'player', 'l_player':'opponent', 'r_wins':'wins', 'l_wins':'losses'})\n",
    "    merge_df_b['bouts'] = merge_df_b['wins'] + merge_df_b['losses']\n",
    "    return pd.concat([merge_df_a, merge_df_b], axis=0).groupby(['player','opponent']).sum().reset_index()"
   ]
  },
  {
   "cell_type": "code",
   "execution_count": 284,
   "id": "f0e1f68a-bdc1-40cf-9d7c-63df4f3cff8e",
   "metadata": {},
   "outputs": [],
   "source": [
    "def initialize(n_players, n_chains=1):\n",
    "    return np.ones((n_chains, n_players))"
   ]
  },
  {
   "cell_type": "code",
   "execution_count": 285,
   "id": "263e8d3c-b173-4924-bb70-2ff498f56006",
   "metadata": {},
   "outputs": [],
   "source": [
    "def mutate(w_vec, idx, rng, sigma=1.0):\n",
    "    n_chains, n_players = w_vec.shape\n",
    "    norm_samp = rng.standard_normal(size=n_chains)\n",
    "    scale_fac = np.exp(norm_samp)\n",
    "    rslt = w_vec.copy()\n",
    "    rslt[:,idx] *= scale_fac\n",
    "    return rslt"
   ]
  },
  {
   "cell_type": "code",
   "execution_count": 353,
   "id": "81dc006d-bded-4416-a779-36bf5071a422",
   "metadata": {},
   "outputs": [],
   "source": [
    "def calc_p_ratio(idx, old_wts, new_wts, samples_df):\n",
    "    n_chains, n_players = old_wts.shape\n",
    "    col_d = {nm:idx for idx, nm in enumerate(samples_df.columns)}\n",
    "    player_col = col_d['player']\n",
    "    opp_col = col_d['opponent']\n",
    "    wins_col = col_d['wins']\n",
    "    bouts_col = col_d['bouts']\n",
    "    df_mtx = samples_df.values\n",
    "    mask = df_mtx[:, player_col] == idx\n",
    "    sub_df_mtx = df_mtx[mask, :]\n",
    "    n_opp = sub_df_mtx.shape[0]\n",
    "    \n",
    "    w = old_wts[:, idx]\n",
    "    wprime = new_wts[:, idx]\n",
    "    log_w_ratio = np.log(wprime/w)\n",
    "    op_idx = sub_df_mtx[:, opp_col]\n",
    "    w_op = old_wts[:, op_idx]\n",
    "    p1 = np.log((w[:, None] + w_op)/(wprime[:, None] + w_op))\n",
    "    p2 = sub_df_mtx[:, bouts_col]\n",
    "    tot = np.outer(log_w_ratio, sub_df_mtx[:, wins_col]) + np.einsum('ij,j -> ij', p1, p2)\n",
    "    return np.exp(np.sum(tot, axis=1))"
   ]
  },
  {
   "cell_type": "code",
   "execution_count": 345,
   "id": "12073509-7906-4abb-b779-be3e88ce9cf3",
   "metadata": {},
   "outputs": [],
   "source": [
    "def sweep(w_vec, win_loss_df, rng, sigma):\n",
    "    n_chains, n_players = w_vec.shape\n",
    "    for idx in range(n_players):\n",
    "        mutated_w_vec = mutate(w_vec, idx, rng, sigma=sigma)\n",
    "        p_ratio = calc_p_ratio(idx, w_vec, mutated_w_vec, win_loss_df)\n",
    "        choice_vec = (np.random.random(n_chains) <= p_ratio)\n",
    "        w_vec = np.where(choice_vec[:, None], mutated_w_vec, w_vec)\n",
    "    return w_vec"
   ]
  },
  {
   "cell_type": "markdown",
   "id": "aa4fc724-0406-4db9-8542-b8d38330c4f9",
   "metadata": {},
   "source": [
    "Base time:\n",
    "```\n",
    "CPU times: user 2min 16s, sys: 293 ms, total: 2min 16s\n",
    "Wall time: 2min 15s\n",
    "```\n",
    "\n",
    "First pass chaining:\n",
    "```\n",
    "CPU times: user 26.2 s, sys: 220 ms, total: 26.4 s\n",
    "Wall time: 25.9 s\n",
    "```\n",
    "\n",
    "300 burn-in, 20 threads, 5 samples per thread:\n",
    "```\n",
    "CPU times: user 10.4 s, sys: 44.1 ms, total: 10.4 s\n",
    "Wall time: 10.3 s\n",
    "```\n",
    "\n",
    "Convert calc_p_ratios to numpy, stage 1\n",
    "```\n",
    "CPU times: user 1.25 s, sys: 32.7 ms, total: 1.28 s\n",
    "Wall time: 1.23 s\n",
    "```\n",
    "\n",
    "Convert calc_p_ratois to numpy, stage 2\n",
    "```\n",
    "CPU times: user 900 ms, sys: 16.1 ms, total: 916 ms\n",
    "Wall time: 895 ms\n",
    "```"
   ]
  },
  {
   "cell_type": "code",
   "execution_count": 354,
   "id": "a293d180-738c-4fca-a8aa-d1eef562678e",
   "metadata": {},
   "outputs": [
    {
     "name": "stdout",
     "output_type": "stream",
     "text": [
      "burn-in complete\n",
      "0\n",
      "1\n",
      "2\n",
      "3\n",
      "4\n",
      "CPU times: user 796 ms, sys: 40.8 ms, total: 837 ms\n",
      "Wall time: 787 ms\n"
     ]
    }
   ],
   "source": [
    "%%time\n",
    "burnin_sweeps = 300\n",
    "n_samp = 5\n",
    "sweeps_per_samp = 100\n",
    "n_chains = 20\n",
    "rng = np.random.default_rng()\n",
    "n_players = len(player_wts)  # we are trying to infer player_wts\n",
    "w_vec = initialize(n_players, n_chains)\n",
    "reordered_df = reorder_df(totals_df)\n",
    "# burn-in\n",
    "for iter in range(burnin_sweeps):\n",
    "    w_vec = sweep(w_vec, reordered_df, rng, sigma=0.1)\n",
    "    w_vec /= w_vec[:, 0, None]  # rescale\n",
    "print('burn-in complete')\n",
    "samp_l = []\n",
    "for samp in range(n_samp):\n",
    "    for iter in range(sweeps_per_samp):\n",
    "        w_vec = sweep(w_vec, reordered_df, rng, sigma=0.1)\n",
    "        w_vec /= w_vec[:, 0, None]  # rescale\n",
    "    samp_l.append(w_vec.copy())\n",
    "    print(samp)\n"
   ]
  },
  {
   "cell_type": "code",
   "execution_count": 355,
   "id": "a224a132-7dce-464a-b228-216e8623085c",
   "metadata": {},
   "outputs": [],
   "source": [
    "n_chains, n_players = samp_l[0].shape\n",
    "samp_array = np.empty((len(samp_l), n_chains, n_players))\n",
    "for idx, vec in enumerate(samp_l):\n",
    "    samp_array[idx, :, :] = vec\n",
    "samp_array = samp_array.reshape(-1, n_players)"
   ]
  },
  {
   "cell_type": "code",
   "execution_count": 356,
   "id": "5667a040-8c16-414f-9509-919f5e6c6cff",
   "metadata": {},
   "outputs": [
    {
     "name": "stdout",
     "output_type": "stream",
     "text": [
      "AxesSubplot(0.125,0.125;0.775x0.755)\n"
     ]
    },
    {
     "name": "stderr",
     "output_type": "stream",
     "text": [
      "<ipython-input-356-b94447bfe202>:4: UserWarning: Matplotlib is currently using module://ipykernel.pylab.backend_inline, which is a non-GUI backend, so cannot show the figure.\n",
      "  fig.show()\n"
     ]
    },
    {
     "data": {
      "image/png": "[encoded data removed]",
      "text/plain": [
       "<Figure size 432x288 with 1 Axes>"
      ]
     },
     "metadata": {
      "needs_background": "light"
     },
     "output_type": "display_data"
    }
   ],
   "source": [
    "fig, axes = plt.subplots(ncols=1, nrows=1)\n",
    "print(axes)\n",
    "axes.violinplot(samp_array)\n",
    "fig.show()"
   ]
  },
  {
   "cell_type": "code",
   "execution_count": 178,
   "id": "dd717612-8b25-4db5-9710-523c8ee3d8a8",
   "metadata": {},
   "outputs": [
    {
     "name": "stdout",
     "output_type": "stream",
     "text": [
      "AxesSubplot(0.125,0.125;0.775x0.755)\n"
     ]
    },
    {
     "name": "stderr",
     "output_type": "stream",
     "text": [
      "<ipython-input-178-b94447bfe202>:4: UserWarning: Matplotlib is currently using module://ipykernel.pylab.backend_inline, which is a non-GUI backend, so cannot show the figure.\n",
      "  fig.show()\n"
     ]
    },
    {
     "data": {
      "image/png": "[encoded data removed]",
      "text/plain": [
       "<Figure size 432x288 with 1 Axes>"
      ]
     },
     "metadata": {
      "needs_background": "light"
     },
     "output_type": "display_data"
    }
   ],
   "source": [
    "fig, axes = plt.subplots(ncols=1, nrows=1)\n",
    "print(axes)\n",
    "axes.violinplot(samp_array)\n",
    "fig.show()"
   ]
  },
  {
   "cell_type": "code",
   "execution_count": 143,
   "id": "91256c9f-b3f2-4fa8-93eb-6ad53c9b27cf",
   "metadata": {},
   "outputs": [
    {
     "data": {
      "image/png": "[encoded data removed]",
      "text/plain": [
       "<Figure size 432x288 with 1 Axes>"
      ]
     },
     "metadata": {
      "needs_background": "light"
     },
     "output_type": "display_data"
    },
    {
     "data": {
      "image/png": "[encoded data removed]",
      "text/plain": [
       "<Figure size 432x288 with 1 Axes>"
      ]
     },
     "metadata": {
      "needs_background": "light"
     },
     "output_type": "display_data"
    },
    {
     "data": {
      "image/png": "[encoded data removed]",
      "text/plain": [
       "<Figure size 432x288 with 1 Axes>"
      ]
     },
     "metadata": {
      "needs_background": "light"
     },
     "output_type": "display_data"
    },
    {
     "data": {
      "image/png": "[encoded data removed]",
      "text/plain": [
       "<Figure size 432x288 with 1 Axes>"
      ]
     },
     "metadata": {
      "needs_background": "light"
     },
     "output_type": "display_data"
    },
    {
     "data": {
      "image/png": "[encoded data removed]",
      "text/plain": [
       "<Figure size 432x288 with 1 Axes>"
      ]
     },
     "metadata": {
      "needs_background": "light"
     },
     "output_type": "display_data"
    }
   ],
   "source": [
    "for idx in range(n_players):\n",
    "    plt.title(idx)\n",
    "    plt.hist([v[idx] for v in samp_l], range=[0.0, 20.0])\n",
    "    plt.show()"
   ]
  },
  {
   "cell_type": "code",
   "execution_count": 125,
   "id": "403a399c-8736-4f99-8444-56f15816d795",
   "metadata": {},
   "outputs": [
    {
     "name": "stdout",
     "output_type": "stream",
     "text": [
      "[1.00000000e+00 3.15354013e+00 2.92204429e+00 4.30306593e+01\n",
      " 2.37436278e+01 3.64135760e+00 1.75989108e+01 6.19411295e+20\n",
      " 4.73572270e+00 3.36279305e+00]\n",
      "[1.00000000e+00 3.15354013e+00 2.92204429e+00 8.19315573e+01\n",
      " 2.37436278e+01 3.64135760e+00 1.75989108e+01 6.19411295e+20\n",
      " 4.73572270e+00 3.36279305e+00]\n",
      "[1.00000000e+00 3.15354013e+00 2.92204429e+00 9.05832120e+01\n",
      " 2.37436278e+01 3.64135760e+00 1.75989108e+01 6.19411295e+20\n",
      " 4.73572270e+00 3.36279305e+00]\n",
      "[1.00000000e+00 3.15354013e+00 2.92204429e+00 1.57036131e+02\n",
      " 2.37436278e+01 3.64135760e+00 1.75989108e+01 6.19411295e+20\n",
      " 4.73572270e+00 3.36279305e+00]\n",
      "[1.00000000e+00 3.15354013e+00 2.92204429e+00 1.80674142e+01\n",
      " 2.37436278e+01 3.64135760e+00 1.75989108e+01 6.19411295e+20\n",
      " 4.73572270e+00 3.36279305e+00]\n",
      "[1.00000000e+00 3.15354013e+00 2.92204429e+00 3.91368396e+01\n",
      " 2.37436278e+01 3.64135760e+00 1.75989108e+01 6.19411295e+20\n",
      " 4.73572270e+00 3.36279305e+00]\n",
      "[1.00000000e+00 3.15354013e+00 2.92204429e+00 2.73565981e+01\n",
      " 2.37436278e+01 3.64135760e+00 1.75989108e+01 6.19411295e+20\n",
      " 4.73572270e+00 3.36279305e+00]\n"
     ]
    }
   ],
   "source": [
    "rng = np.random.default_rng()\n",
    "for i in range(7):\n",
    "    w_vec = mutate(w_vec, 3, rng, sigma=0.2)\n",
    "    print(w_vec)"
   ]
  },
  {
   "cell_type": "code",
   "execution_count": 38,
   "id": "2016c748-44b2-4e26-ba99-4b1e6b865b9f",
   "metadata": {},
   "outputs": [
    {
     "name": "stdout",
     "output_type": "stream",
     "text": [
      "[ 4.62751278e-02  1.92739976e-02  2.78453598e-01  5.56477021e-01\n",
      "  1.50966000e+00 -8.59554544e-01 -4.12515716e-01 -4.90642342e-01\n",
      " -7.46452047e-02 -7.80648762e-01  1.39380560e-01  9.16690735e-01\n",
      "  7.45714988e-02 -3.56676673e-01 -1.60829870e+00 -1.50534317e+00\n",
      " -7.60107090e-01  1.75279543e-03 -6.61985602e-01 -4.68890654e-01\n",
      " -1.25296501e+00 -5.55339603e-01 -1.14217426e+00 -6.26829145e-01\n",
      " -1.07976453e+00 -6.18942823e-02  1.69316490e-01  3.09991587e-01\n",
      " -1.57735870e-01  1.07652204e+00 -4.08117920e-01 -1.06473028e+00\n",
      " -1.12165387e+00 -3.00579397e-01  6.64806317e-03 -8.18626754e-01\n",
      "  7.17753204e-01 -1.94787020e-01  4.43364966e-01 -2.54610208e+00\n",
      "  3.45116098e-03  3.75138695e-01  7.27154067e-01  1.11486866e+00\n",
      "  3.01304508e-01 -6.01177562e-02 -3.39415303e-01  1.91238957e-01\n",
      " -3.94445151e-01 -1.21892141e+00 -4.78977608e-01  1.37289827e+00\n",
      "  3.57562885e-01  1.54901666e+00 -9.30178446e-01 -8.82320579e-01\n",
      " -1.11705626e+00 -2.44797777e-01  1.16731784e-01 -1.67903976e-01\n",
      "  2.88643286e-01 -1.05303279e+00  3.15751679e-01 -1.05270592e+00\n",
      " -3.98753188e-02  7.62664241e-01  1.13508820e-01  5.15325455e-01\n",
      " -2.14334069e+00  9.92703997e-02 -1.33171824e+00  3.11547331e-01\n",
      "  1.94949273e-01 -2.66112290e-01  3.45884820e-01  3.66473415e-01\n",
      " -4.43735734e-01 -9.55270436e-01 -6.84270904e-01 -1.50526110e+00\n",
      " -8.53024191e-01 -1.60034973e+00  8.66778015e-01 -1.01450389e+00\n",
      "  3.69286454e-01  2.39342488e-01  7.19487376e-02 -3.85695826e-01\n",
      " -5.53676556e-01 -1.79944355e-01  1.16870180e+00 -4.11714887e-01\n",
      " -4.43784967e-01  8.47890430e-01  1.10314194e-01 -1.77647730e+00\n",
      " -1.53333762e+00  5.01285913e-01 -3.90844791e-01 -2.65599325e-01]\n"
     ]
    }
   ],
   "source": [
    "rng = np.random.default_rng()\n",
    "print(rng.standard_normal(size=100))"
   ]
  },
  {
   "cell_type": "code",
   "execution_count": null,
   "id": "1905e322-4d16-4eb5-bb60-a0888b603ba1",
   "metadata": {},
   "outputs": [],
   "source": []
  },
  {
   "cell_type": "code",
   "execution_count": 230,
   "id": "fa5389dd-5a3c-4989-abe2-3e859660695f",
   "metadata": {},
   "outputs": [
    {
     "data": {
      "text/plain": [
       "array([[1.        , 0.38899855, 1.        ],\n",
       "       [1.        , 1.89966363, 1.        ],\n",
       "       [1.        , 0.15788295, 1.        ],\n",
       "       [1.        , 0.47634786, 1.        ],\n",
       "       [1.        , 0.89908606, 1.        ]])"
      ]
     },
     "metadata": {},
     "output_type": "display_data"
    },
    {
     "name": "stdout",
     "output_type": "stream",
     "text": [
      "idx 1: [1. 1. 1. 1. 1.] -> [0.38899855 1.89966363 0.15788295 0.47634786 0.89908606]:\n",
      "player         1\n",
      "opponent       0\n",
      "wins         876\n",
      "losses       445\n",
      "bouts       1321\n",
      "Name: 2, dtype: int64\n",
      "player         1\n",
      "opponent       2\n",
      "wins         500\n",
      "losses       814\n",
      "bouts       1314\n",
      "Name: 3, dtype: int64\n"
     ]
    },
    {
     "name": "stderr",
     "output_type": "stream",
     "text": [
      "<ipython-input-229-1f2dfd962959>:12: RuntimeWarning: overflow encountered in power\n",
      "  p_ratio *= np.power((w + w_op)/(wprime + w_op), row['bouts'])\n",
      "<ipython-input-229-1f2dfd962959>:12: RuntimeWarning: invalid value encountered in multiply\n",
      "  p_ratio *= np.power((w + w_op)/(wprime + w_op), row['bouts'])\n"
     ]
    }
   ],
   "source": [
    "w_vec = initialize(3, 5)\n",
    "rng = np.random.default_rng()\n",
    "idx = 1\n",
    "reordered_df = reorder_df(totals_df)\n",
    "mutated_vec = mutate(w_vec, idx, rng, sigma=1.0)\n",
    "display(mutated_vec)\n",
    "p_ratio = calc_p_ratio(idx, w_vec, mutated_vec, reordered_df)"
   ]
  }
 ],
 "metadata": {
  "kernelspec": {
   "display_name": "lordbayesEnv",
   "language": "python",
   "name": "lordbayesenv"
  },
  "language_info": {
   "codemirror_mode": {
    "name": "ipython",
    "version": 3
   },
   "file_extension": ".py",
   "mimetype": "text/x-python",
   "name": "python",
   "nbconvert_exporter": "python",
   "pygments_lexer": "ipython3",
   "version": "3.9.5"
  }
 },
 "nbformat": 4,
 "nbformat_minor": 5
}
